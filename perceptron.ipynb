{
 "cells": [
  {
   "cell_type": "code",
   "execution_count": 5,
   "metadata": {
    "ExecuteTime": {
     "end_time": "2023-04-02T17:19:48.729624Z",
     "start_time": "2023-04-02T17:19:48.714100Z"
    },
    "collapsed": false
   },
   "outputs": [],
   "source": [
    "from typing import List\n",
    "\n",
    "\n",
    "class Iris:\n",
    "\n",
    "    def __init__(self, points: List[float], category: str):\n",
    "        self.points = points\n",
    "        self.category = category\n",
    "\n",
    "    def __repr__(self):\n",
    "        return self.__str__()\n",
    "\n",
    "    def __str__(self):\n",
    "        return f\"(Iris: {self.points}, kategoria: {self.category})\"\n",
    "\n",
    "    def __eq__(self, other):\n",
    "        for i in range(len(self.points)):\n",
    "            if self.points[i] != other.points[i]:\n",
    "                return False\n",
    "        return self.category == other.category\n",
    "\n",
    "    def __hash__(self) -> int:\n",
    "        hash = sum([point.__hash__() for point in self.points])\n",
    "        hash += self.category.__hash__()\n",
    "        return hash\n"
   ]
  },
  {
   "cell_type": "code",
   "execution_count": 6,
   "metadata": {
    "ExecuteTime": {
     "end_time": "2023-04-02T17:19:48.770104Z",
     "start_time": "2023-04-02T17:19:48.714170Z"
    },
    "collapsed": false
   },
   "outputs": [
    {
     "name": "stdout",
     "output_type": "stream",
     "text": [
      "{'Iris-versicolor', 'Iris-virginica'}\n",
      "{(Iris: [5.6, 2.5, 3.9, 1.1], kategoria: Iris-versicolor), (Iris: [5.0, 2.0, 3.5, 1.0], kategoria: Iris-versicolor), (Iris: [6.7, 3.0, 5.0, 1.7], kategoria: Iris-versicolor), (Iris: [5.6, 3.0, 4.5, 1.5], kategoria: Iris-versicolor), (Iris: [6.1, 2.6, 5.6, 1.4], kategoria: Iris-virginica), (Iris: [6.1, 2.9, 4.7, 1.4], kategoria: Iris-versicolor), (Iris: [6.7, 3.1, 4.4, 1.4], kategoria: Iris-versicolor), (Iris: [6.2, 2.2, 4.5, 1.5], kategoria: Iris-versicolor), (Iris: [6.3, 2.9, 5.6, 1.8], kategoria: Iris-virginica), (Iris: [5.8, 2.7, 3.9, 1.2], kategoria: Iris-versicolor), (Iris: [5.5, 2.3, 4.0, 1.3], kategoria: Iris-versicolor), (Iris: [6.3, 3.3, 6.0, 2.5], kategoria: Iris-virginica), (Iris: [6.4, 2.7, 5.3, 1.9], kategoria: Iris-virginica), (Iris: [5.5, 2.4, 3.7, 1.0], kategoria: Iris-versicolor), (Iris: [6.2, 2.8, 4.8, 1.8], kategoria: Iris-virginica), (Iris: [6.8, 2.8, 4.8, 1.4], kategoria: Iris-versicolor), (Iris: [6.9, 3.1, 4.9, 1.5], kategoria: Iris-versicolor), (Iris: [7.2, 3.0, 5.8, 1.6], kategoria: Iris-virginica), (Iris: [6.1, 2.8, 4.7, 1.2], kategoria: Iris-versicolor), (Iris: [7.1, 3.0, 5.9, 2.1], kategoria: Iris-virginica), (Iris: [7.6, 3.0, 6.6, 2.1], kategoria: Iris-virginica), (Iris: [5.5, 2.4, 3.8, 1.1], kategoria: Iris-versicolor), (Iris: [5.2, 2.7, 3.9, 1.4], kategoria: Iris-versicolor), (Iris: [6.3, 2.5, 4.9, 1.5], kategoria: Iris-versicolor), (Iris: [5.7, 2.8, 4.5, 1.3], kategoria: Iris-versicolor), (Iris: [6.5, 3.2, 5.1, 2.0], kategoria: Iris-virginica), (Iris: [6.0, 2.2, 5.0, 1.5], kategoria: Iris-virginica), (Iris: [6.5, 2.8, 4.6, 1.5], kategoria: Iris-versicolor), (Iris: [5.7, 2.5, 5.0, 2.0], kategoria: Iris-virginica), (Iris: [4.9, 2.4, 3.3, 1.0], kategoria: Iris-versicolor), (Iris: [5.7, 2.6, 3.5, 1.0], kategoria: Iris-versicolor), (Iris: [5.8, 2.7, 4.1, 1.0], kategoria: Iris-versicolor), (Iris: [6.6, 2.9, 4.6, 1.3], kategoria: Iris-versicolor), (Iris: [5.4, 3.0, 4.5, 1.5], kategoria: Iris-versicolor), (Iris: [6.0, 2.9, 4.5, 1.5], kategoria: Iris-versicolor), (Iris: [6.4, 2.9, 4.3, 1.3], kategoria: Iris-versicolor), (Iris: [5.9, 3.2, 4.8, 1.8], kategoria: Iris-versicolor), (Iris: [7.0, 3.2, 4.7, 1.4], kategoria: Iris-versicolor), (Iris: [6.4, 3.2, 4.5, 1.5], kategoria: Iris-versicolor), (Iris: [6.1, 2.8, 4.0, 1.3], kategoria: Iris-versicolor), (Iris: [6.3, 2.7, 4.9, 1.8], kategoria: Iris-virginica), (Iris: [6.0, 2.2, 4.0, 1.0], kategoria: Iris-versicolor), (Iris: [4.9, 2.5, 4.5, 1.7], kategoria: Iris-virginica), (Iris: [6.5, 3.0, 5.8, 2.2], kategoria: Iris-virginica), (Iris: [7.2, 3.2, 6.0, 1.8], kategoria: Iris-virginica), (Iris: [6.3, 2.8, 5.1, 1.5], kategoria: Iris-virginica), (Iris: [7.4, 2.8, 6.1, 1.9], kategoria: Iris-virginica), (Iris: [7.3, 2.9, 6.3, 1.8], kategoria: Iris-virginica), (Iris: [6.9, 3.2, 5.7, 2.3], kategoria: Iris-virginica), (Iris: [6.4, 2.8, 5.6, 2.2], kategoria: Iris-virginica), (Iris: [6.5, 3.0, 5.5, 1.8], kategoria: Iris-virginica), (Iris: [5.6, 2.8, 4.9, 2.0], kategoria: Iris-virginica), (Iris: [7.7, 3.8, 6.7, 2.2], kategoria: Iris-virginica), (Iris: [7.7, 2.6, 6.9, 2.3], kategoria: Iris-virginica), (Iris: [7.9, 3.8, 6.4, 2.0], kategoria: Iris-virginica), (Iris: [6.1, 3.0, 4.9, 1.8], kategoria: Iris-virginica), (Iris: [7.7, 2.8, 6.7, 2.0], kategoria: Iris-virginica), (Iris: [6.0, 2.7, 5.1, 1.6], kategoria: Iris-versicolor), (Iris: [6.7, 2.5, 5.8, 1.8], kategoria: Iris-virginica), (Iris: [6.6, 3.0, 4.4, 1.4], kategoria: Iris-versicolor), (Iris: [6.4, 2.8, 5.6, 2.1], kategoria: Iris-virginica), (Iris: [6.3, 3.3, 4.7, 1.6], kategoria: Iris-versicolor), (Iris: [5.9, 3.0, 4.2, 1.5], kategoria: Iris-versicolor), (Iris: [6.7, 3.3, 5.7, 2.1], kategoria: Iris-virginica), (Iris: [6.8, 3.0, 5.5, 2.1], kategoria: Iris-virginica), (Iris: [5.6, 2.9, 3.6, 1.3], kategoria: Iris-versicolor), (Iris: [5.8, 2.7, 5.1, 1.9], kategoria: Iris-virginica), (Iris: [6.4, 3.2, 5.3, 2.3], kategoria: Iris-virginica), (Iris: [5.8, 2.8, 5.1, 2.4], kategoria: Iris-virginica), (Iris: [7.2, 3.6, 6.1, 2.5], kategoria: Iris-virginica)}\n"
     ]
    }
   ],
   "source": [
    "categories = set()\n",
    "trainingLeafs = set()\n",
    "\n",
    "with open('training_set.txt', 'r') as f:\n",
    "    data = f.read()\n",
    "    data = data.splitlines()\n",
    "    for line in data:\n",
    "        lineValues = line.split(',')\n",
    "        category = lineValues.pop()\n",
    "        value = [float(x) for x in lineValues]\n",
    "        categories.add(category)\n",
    "        trainingLeafs.add(Iris(value, category))\n",
    "\n",
    "print(categories)\n",
    "print(trainingLeafs)\n",
    "\n",
    "expectedLeafs = set()\n",
    "with open('test_set.txt', 'r') as f:\n",
    "    data = f.read()\n",
    "    data = data.splitlines()\n",
    "    for line in data:\n",
    "        lineValues = line.split(',')\n",
    "        category = lineValues.pop()\n",
    "        value = [float(x) for x in lineValues]\n",
    "        expectedLeafs.add(Iris(value, category))"
   ]
  },
  {
   "cell_type": "code",
   "execution_count": 7,
   "metadata": {
    "ExecuteTime": {
     "end_time": "2023-04-02T17:19:48.770404Z",
     "start_time": "2023-04-02T17:19:48.714195Z"
    },
    "collapsed": false
   },
   "outputs": [
    {
     "name": "stdout",
     "output_type": "stream",
     "text": [
      "0.0\n",
      "56.666666666666664\n",
      "100.0\n",
      "Poprawność: 100.0%\n",
      "Poprawność dla Iris-virginica: 100.0%\n",
      "Poprawność dla Iris-versicolor: 100.0%\n"
     ]
    }
   ],
   "source": [
    "from copy import deepcopy\n",
    "import random\n",
    "from typing import List\n",
    "\n",
    "\n",
    "def dot(input_data: List[float], weights: List[float]):\n",
    "    return sum([x[0] * x[1] for x in zip(input_data, weights)])\n",
    "\n",
    "\n",
    "class Perceptron:\n",
    "    def __init__(self, learning_rate):\n",
    "        self.weights = []\n",
    "        self.threshold = random.random()\n",
    "        self.learning_rate = learning_rate\n",
    "\n",
    "    def set_weights(self, weights: List[float]):\n",
    "        self.weights = weights\n",
    "\n",
    "    def get_result(self, input_data: List[float]):\n",
    "        if len(self.weights) == 0:\n",
    "            self.weights = [random.random() for x in range(len(input_data))]\n",
    "        elif len(input_data) != len(self.weights):\n",
    "            raise Exception(\"Wrong input data for this perceptron!\")\n",
    "        return int(dot(input_data, weights=self.weights) >= self.threshold)\n",
    "\n",
    "    def learn(self, input_data: List[float], expected: int):\n",
    "        given = self.get_result(input_data)\n",
    "        # print(f\"Given: {given}\")\n",
    "        self.weights.append(self.threshold)\n",
    "        # print(f\"Weight before: {self.weights}\")\n",
    "        input_data.append(-1)\n",
    "        # print(f\"Input before: {input_data}\")\n",
    "        diff = [(expected - given) * self.learning_rate * x for x in input_data]\n",
    "        # print(f\"Diff: {diff}\")\n",
    "        input_data.pop()\n",
    "        # print(f\"Input after: {input_data}\")\n",
    "        self.weights = [x[0] + x[1] for x in zip(self.weights, diff)]\n",
    "        # print(f\"Weights after: {self.weights}\")\n",
    "        self.threshold = self.weights.pop()\n",
    "        # print(f\"New threshold: {self.threshold}\")\n",
    "\n",
    "\n",
    "translation = {'Iris-virginica': 0, 'Iris-versicolor': 1}\n",
    "inv_translation = dict((v, k) for k, v in translation.items())\n",
    "learning_rate = 0.1\n",
    "\n",
    "iris_detailed_accuracy = {'Iris-virginica': 0.0, 'Iris-versicolor': 0.0}\n",
    "next_iris_detailed_accuracy = {'Iris-virginica': 0.0, 'Iris-versicolor': 0.0}\n",
    "accurancy = 0.0\n",
    "next_accurancy = 0.0\n",
    "\n",
    "perceptron = Perceptron(0.1)\n",
    "next_perceptron = deepcopy(perceptron)\n",
    "\n",
    "while accurancy <= next_accurancy:\n",
    "    accurancy = next_accurancy\n",
    "    next_accurancy = 0.0\n",
    "    iris_detailed_accuracy = deepcopy(next_iris_detailed_accuracy)\n",
    "    next_iris_detailed_accuracy = {'Iris-virginica': 0.0, 'Iris-versicolor': 0.0}\n",
    "    for leaf in trainingLeafs:\n",
    "        next_perceptron.learn(leaf.points, translation[leaf.category])\n",
    "    for leaf in expectedLeafs:\n",
    "        result = next_perceptron.get_result(leaf.points)\n",
    "        check = inv_translation[result]\n",
    "        if leaf.category == check:\n",
    "            next_accurancy += 1\n",
    "            next_iris_detailed_accuracy[leaf.category] += 1\n",
    "    next_accurancy /= len(expectedLeafs)\n",
    "    for key in iris_detailed_accuracy:\n",
    "        next_iris_detailed_accuracy[key] /= len(list(filter(lambda x: x.category == key, expectedLeafs)))\n",
    "    if (next_accurancy > accurancy):\n",
    "        perceptron = deepcopy(next_perceptron)\n",
    "    print(accurancy*100)\n",
    "\n",
    "print(f\"Poprawność: {accurancy*100}%\")\n",
    "print(f\"Poprawność dla Iris-virginica: {iris_detailed_accuracy['Iris-virginica']*100}%\")\n",
    "print(f\"Poprawność dla Iris-versicolor: {iris_detailed_accuracy['Iris-versicolor']*100}%\")\n"
   ]
  },
  {
   "cell_type": "code",
   "execution_count": 10,
   "metadata": {},
   "outputs": [
    {
     "name": "stdout",
     "output_type": "stream",
     "text": [
      "Podane wartości: [1.1, 2.2, 3.3, 4.4]\n",
      "Model przewiduje, że kwiat jest gatunku: Iris-virginica\n"
     ]
    }
   ],
   "source": [
    "inputValues = input(\"Podaj 4 liczby: \")\n",
    "inputFloats = [float(x) for x in inputValues.split(',')]\n",
    "print(f\"Podane wartości: {inputFloats}\")\n",
    "\n",
    "leaf = Iris(inputFloats, category=inv_translation[perceptron.get_result(leaf.points)])\n",
    "\n",
    "print(f\"Model przewiduje, że kwiat jest gatunku: {leaf.category}\")"
   ]
  }
 ],
 "metadata": {
  "kernelspec": {
   "display_name": "Python 3",
   "language": "python",
   "name": "python3"
  },
  "language_info": {
   "codemirror_mode": {
    "name": "ipython",
    "version": 3
   },
   "file_extension": ".py",
   "mimetype": "text/x-python",
   "name": "python",
   "nbconvert_exporter": "python",
   "pygments_lexer": "ipython3",
   "version": "3.11.2"
  }
 },
 "nbformat": 4,
 "nbformat_minor": 0
}
